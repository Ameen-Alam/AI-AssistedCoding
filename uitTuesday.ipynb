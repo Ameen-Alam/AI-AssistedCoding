{
  "nbformat": 4,
  "nbformat_minor": 0,
  "metadata": {
    "colab": {
      "provenance": [],
      "authorship_tag": "ABX9TyMvMcv697ubJit/g7l0t8q7",
      "include_colab_link": true
    },
    "kernelspec": {
      "name": "python3",
      "display_name": "Python 3"
    },
    "language_info": {
      "name": "python"
    }
  },
  "cells": [
    {
      "cell_type": "markdown",
      "metadata": {
        "id": "view-in-github",
        "colab_type": "text"
      },
      "source": [
        "<a href=\"https://colab.research.google.com/github/Ameen-Alam/AI-AssistedCoding/blob/main/uitTuesday.ipynb\" target=\"_parent\"><img src=\"https://colab.research.google.com/assets/colab-badge.svg\" alt=\"Open In Colab\"/></a>"
      ]
    },
    {
      "cell_type": "code",
      "execution_count": 2,
      "metadata": {
        "colab": {
          "base_uri": "https://localhost:8080/"
        },
        "id": "uWKAwqpRTRyq",
        "outputId": "735846e6-2d3e-4606-cd8b-788a264246b9"
      },
      "outputs": [
        {
          "output_type": "stream",
          "name": "stdout",
          "text": [
            "Hello Sir Yousuf!\n"
          ]
        }
      ],
      "source": [
        "# prompt: Say Hello to Sir Yousuf\n",
        "\n",
        "print(\"Hello Sir Yousuf!\")\n"
      ]
    },
    {
      "cell_type": "code",
      "source": [
        "uname\"Sir Yousuf\n",
        "pint(unANe"
      ],
      "metadata": {
        "colab": {
          "base_uri": "https://localhost:8080/",
          "height": 108
        },
        "id": "dm-u6eAFUDoz",
        "outputId": "f2c9636c-330c-4085-c139-b27a7976d9dd"
      },
      "execution_count": 8,
      "outputs": [
        {
          "output_type": "error",
          "ename": "SyntaxError",
          "evalue": "unterminated string literal (detected at line 1) (<ipython-input-8-15b04e46eb7d>, line 1)",
          "traceback": [
            "\u001b[0;36m  File \u001b[0;32m\"<ipython-input-8-15b04e46eb7d>\"\u001b[0;36m, line \u001b[0;32m1\u001b[0m\n\u001b[0;31m    uname\"Sir Yousuf\u001b[0m\n\u001b[0m         ^\u001b[0m\n\u001b[0;31mSyntaxError\u001b[0m\u001b[0;31m:\u001b[0m unterminated string literal (detected at line 1)\n"
          ]
        }
      ]
    },
    {
      "cell_type": "code",
      "source": [
        "from pathlib import PureWindowsPath\n",
        "# prompt: Please fix error in last one cell\n",
        "\n",
        "print(\"Hello Sir Yousuf!\")\n",
        "\n",
        "uname = \"Sir Yousuf\"\n",
        "print(uname)\n",
        "print(uname.upper())\n"
      ],
      "metadata": {
        "colab": {
          "base_uri": "https://localhost:8080/"
        },
        "id": "vgFwKGHqUaXy",
        "outputId": "788db1bb-24bc-4e68-ab3b-8532f4184aac"
      },
      "execution_count": 9,
      "outputs": [
        {
          "output_type": "stream",
          "name": "stdout",
          "text": [
            "Hello Sir Yousuf!\n",
            "Sir Yousuf\n"
          ]
        }
      ]
    }
  ]
}